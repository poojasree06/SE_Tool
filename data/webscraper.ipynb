{
 "cells": [
  {
   "cell_type": "code",
   "execution_count": null,
   "id": "d8d815d3",
   "metadata": {},
   "outputs": [],
   "source": [
    "# All the data is taken from the website \"https://www.techpowerup.com/\"\n",
    "import requests\n",
    "import pandas as pd\n",
    "from bs4 import BeautifulSoup\n",
    "import time\n",
    "import random \n",
    "from tqdm import tqdm\n",
    "import json\n",
    "headers={\n",
    "        'User-Agent': 'Mozilla/5.0',\n",
    "    }\n"
   ]
  },
  {
   "cell_type": "code",
   "execution_count": null,
   "id": "d25c0e43",
   "metadata": {},
   "outputs": [],
   "source": [
    "#function for processing dump of all cpus/gpus obtained in scrape_all\n",
    "def process_dump(path_dump, path_csv):\n",
    "    with open(path_dump, 'r') as file:\n",
    "        dump=json.load(file)\n",
    "        data_list=[]\n",
    "        for data in tqdm(dump):\n",
    "            soup=BeautifulSoup(data['html'],'html.parser')\n",
    "            rows=soup.select('table.processors > tr')\n",
    "            tdp=data['TDP']\n",
    "            if tdp == \"unkown\":\n",
    "                pass\n",
    "            for row in rows:\n",
    "                cells=row.find_all('td')\n",
    "                data_list.append({'name':cells[0].getText().strip(), 'gpu_chip':cells[1].getText().strip(), 'released':cells[2].getText().strip(), 'bus':cells[3].getText().strip(), 'memory':cells[4].getText().strip(), 'gpu_clock':cells[5].getText().strip(), 'memory_clock':cells[6].getText().strip(), 'shaders/TMUs/ROPs':cells[7].getText().strip(), 'TDP':tdp})\n",
    "        df=pd.DataFrame.from_dict(data_list)\n",
    "        df.to_csv(path_csv, index=False)"
   ]
  },
  {
   "cell_type": "code",
   "execution_count": null,
   "id": "2db65f88",
   "metadata": {},
   "outputs": [
    {
     "name": "stderr",
     "output_type": "stream",
     "text": [
      "\r",
      "  0%|                                                                                          | 0/132 [00:00<?, ?it/s]"
     ]
    },
    {
     "name": "stdout",
     "output_type": "stream",
     "text": [
      "\n",
      "TDP:1\n",
      "\n"
     ]
    },
    {
     "name": "stderr",
     "output_type": "stream",
     "text": [
      "\r",
      "  1%|▌                                                                                 | 1/132 [00:01<03:14,  1.49s/it]"
     ]
    },
    {
     "name": "stdout",
     "output_type": "stream",
     "text": [
      "https://www.techpowerup.com/cpu-specs/?tdp=1%20W&sort=name\n",
      "\n",
      "TDP:2\n",
      "\n"
     ]
    },
    {
     "name": "stderr",
     "output_type": "stream",
     "text": [
      "\r",
      "  2%|█▏                                                                                | 2/132 [00:03<03:18,  1.52s/it]"
     ]
    },
    {
     "name": "stdout",
     "output_type": "stream",
     "text": [
      "https://www.techpowerup.com/cpu-specs/?tdp=2%20W&sort=name\n",
      "\n",
      "TDP:3\n",
      "\n"
     ]
    },
    {
     "name": "stderr",
     "output_type": "stream",
     "text": [
      "\r",
      "  2%|█▊                                                                                | 3/132 [00:04<03:09,  1.47s/it]"
     ]
    },
    {
     "name": "stdout",
     "output_type": "stream",
     "text": [
      "https://www.techpowerup.com/cpu-specs/?tdp=3%20W&sort=name\n",
      "\n",
      "TDP:4\n",
      "\n"
     ]
    },
    {
     "name": "stderr",
     "output_type": "stream",
     "text": [
      "\r",
      "  3%|██▍                                                                               | 4/132 [00:05<03:09,  1.48s/it]"
     ]
    },
    {
     "name": "stdout",
     "output_type": "stream",
     "text": [
      "https://www.techpowerup.com/cpu-specs/?tdp=4%20W&sort=name\n",
      "\n",
      "TDP:5\n",
      "\n"
     ]
    },
    {
     "name": "stderr",
     "output_type": "stream",
     "text": [
      "\r",
      "  4%|███                                                                               | 5/132 [00:07<03:04,  1.46s/it]"
     ]
    },
    {
     "name": "stdout",
     "output_type": "stream",
     "text": [
      "https://www.techpowerup.com/cpu-specs/?tdp=5%20W&sort=name\n",
      "\n",
      "TDP:6\n",
      "\n"
     ]
    },
    {
     "name": "stderr",
     "output_type": "stream",
     "text": [
      "\r",
      "  5%|███▋                                                                              | 6/132 [00:08<03:09,  1.51s/it]"
     ]
    },
    {
     "name": "stdout",
     "output_type": "stream",
     "text": [
      "https://www.techpowerup.com/cpu-specs/?tdp=6%20W&sort=name\n",
      "\n",
      "TDP:7\n",
      "\n"
     ]
    },
    {
     "name": "stderr",
     "output_type": "stream",
     "text": [
      "\r",
      "  5%|████▎                                                                             | 7/132 [00:10<03:07,  1.50s/it]"
     ]
    },
    {
     "name": "stdout",
     "output_type": "stream",
     "text": [
      "https://www.techpowerup.com/cpu-specs/?tdp=7%20W&sort=name\n",
      "\n",
      "TDP:8\n",
      "\n"
     ]
    },
    {
     "name": "stderr",
     "output_type": "stream",
     "text": [
      "\r",
      "  6%|████▉                                                                             | 8/132 [00:11<03:06,  1.50s/it]"
     ]
    },
    {
     "name": "stdout",
     "output_type": "stream",
     "text": [
      "https://www.techpowerup.com/cpu-specs/?tdp=8%20W&sort=name\n",
      "\n",
      "TDP:9\n",
      "\n",
      "https://www.techpowerup.com/cpu-specs/?tdp=9%20W&sort=name\n"
     ]
    }
   ],
   "source": [
    "        \n",
    "#It first obtains a dump of all CPUs/GPUs whose TDP is known, and then calls process_dump for processing it and obtaing cpu.csv/gpu.csv\n",
    "def scrape_all(cpu=True):\n",
    "    if cpu:\n",
    "        hardware=\"cpu\"\n",
    "    else:\n",
    "        hardware=\"gpu\"\n",
    "    url=f\"https://www.techpowerup.com/{hardware}-specs/?sort=name\"\n",
    "    r=requests.get(url, headers=headers)\n",
    "    soup=BeautifulSoup(r.text, 'html.parser')\n",
    "\n",
    "    #Obtain all TDPs\n",
    "    TDP_options=soup.select('select#tdp > option')\n",
    "    TDP=[]\n",
    "    #options:'All','unkown' are not considered\n",
    "    for option in TDP_options[1:-1]:\n",
    "        tdp=option.getText().split()[0]\n",
    "        TDP.append(tdp)\n",
    "\n",
    "    sleep_minutes=20\n",
    "    dump=[]\n",
    "    for tdp in tqdm(TDP):\n",
    "        print(f'\\nTDP:{tdp}\\n')\n",
    "        url=f\"https://www.techpowerup.com/{hardware}-specs/?tdp={tdp}%20W&sort=name\"\n",
    "        r=requests.get(url, headers=headers)\n",
    "#         print(url)\n",
    "        while r.status_code != 200:\n",
    "            time.sleep(sleep_minutes*60)\n",
    "            r=requests.get(url, headers=headers)\n",
    "        dump.append({'TDP':tdp, 'html':r.text})\n",
    "        with open(f'dump_{hardware}.json', 'w') as file:\n",
    "            file.write(json.dumps(dump))\n",
    "    process_dump(f'dump_{hardware}.json', f'{hardware}.csv')\n",
    "\n",
    "\n",
    "scrape_all(cpu=True)\n"
   ]
  },
  {
   "cell_type": "code",
   "execution_count": null,
   "id": "eb2cdbb1",
   "metadata": {},
   "outputs": [],
   "source": []
  }
 ],
 "metadata": {
  "kernelspec": {
   "display_name": "Python 3",
   "language": "python",
   "name": "python3"
  },
  "language_info": {
   "codemirror_mode": {
    "name": "ipython",
    "version": 3
   },
   "file_extension": ".py",
   "mimetype": "text/x-python",
   "name": "python",
   "nbconvert_exporter": "python",
   "pygments_lexer": "ipython3",
   "version": "3.9.2"
  }
 },
 "nbformat": 4,
 "nbformat_minor": 5
}
