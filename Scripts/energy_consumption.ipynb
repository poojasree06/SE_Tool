{
 "cells": [
  {
   "cell_type": "code",
   "execution_count": 91,
   "id": "ae37176e",
   "metadata": {},
   "outputs": [],
   "source": [
    "import os\n",
    "import pandas as pd\n",
    "import GPUtil\n",
    "import cpuinfo\n",
    "import re"
   ]
  },
  {
   "cell_type": "code",
   "execution_count": 92,
   "id": "ee92b93f",
   "metadata": {},
   "outputs": [],
   "source": [
    "gpu_dataset_path = 'data/gpu.csv'\n",
    "cpu_dataset_path = 'data/cpu.csv'\n",
    "regexp_cpu = '(Core|Ryzen).* (i\\d-\\d{3,5}.?|\\d \\d{3,5}.?)'\n",
    "# need to write regex for gpu as well- to remove GPU brand name"
   ]
  },
  {
   "cell_type": "code",
   "execution_count": 93,
   "id": "8f36bde7",
   "metadata": {},
   "outputs": [],
   "source": [
    "import GPUtil\n",
    "def detect_gpu():\n",
    "    try:\n",
    "        gpus = GPUtil.getGPUs()\n",
    "        gpu_name = gpus[0].name\n",
    "        print(f'GPU name: {gpu_name}')\n",
    "        name=gpu_name.replace('NVIDIA ','')\n",
    "        \n",
    "#         print(name)\n",
    "#         dirname = os.path.dirname(__file__)\n",
    "#         relative_gpu_dataset_path = os.path.join(dirname, gpu_dataset_path)\n",
    "\n",
    "        df = pd.read_csv(\"../data/gpu.csv\")\n",
    "    \n",
    "        # it uses contains for more flexibility\n",
    "        row = df[df['name'].str.contains(name)]\n",
    "        if row.empty:\n",
    "            # if gpu not found then leave standard TDP value\n",
    "            print('GPU not found. Standard TDP= 250 assigned.')\n",
    "        else:\n",
    "            # otherwise assign gpu's TDP\n",
    "            TDP = row.TDP.values[0]\n",
    "            print(TDP)\n",
    "    # ValueError arise when GPUtil can't communicate with the GPU driver\n",
    "    except (ValueError, IndexError):\n",
    "        # in case no GPU can be found\n",
    "        print('[except] GPU not found. Standard TDP= 250 assigned.')"
   ]
  },
  {
   "cell_type": "code",
   "execution_count": 94,
   "id": "d3cb87a2",
   "metadata": {},
   "outputs": [
    {
     "name": "stdout",
     "output_type": "stream",
     "text": [
      "GPU name: NVIDIA GeForce MX330\n",
      "10\n"
     ]
    }
   ],
   "source": [
    "detect_gpu()"
   ]
  },
  {
   "cell_type": "code",
   "execution_count": 95,
   "id": "29f76513",
   "metadata": {},
   "outputs": [],
   "source": [
    "def detect_cpu():\n",
    "    try:\n",
    "        cpu_name = cpuinfo.get_cpu_info()['brand_raw']\n",
    "        print(f'CPU_name: {cpu_name}')\n",
    "        result = re.search(regexp_cpu, cpu_name)\n",
    "        \n",
    "        if result is not None:\n",
    "            cpu_name = result.group(1) + ' ' + result.group(2)\n",
    "       # print(cpu_name)\n",
    "            \n",
    "#         dirname = os.path.dirname(__file__)\n",
    "#         relative_cpu_dataset_path = os.path.join(dirname, cpu_dataset_path)\n",
    "\n",
    "        df = pd.read_csv(\"../data/cpu.csv\")\n",
    "    \n",
    "        # it uses contains for more flexibility\n",
    "        row = df[df['name'].str.contains(cpu_name)]\n",
    "        if row.empty:\n",
    "            # if gpu not found then leave standard TDP value\n",
    "            print('CPU not found. Standard TDP=250 assigned.')\n",
    "        else:\n",
    "            # otherwise, assign CPU's TDP\n",
    "            TDP = row.TDP.values[0]\n",
    "            print(f'CPU recognized: TDP set to {row.TDP.values[0]}')\n",
    "\n",
    "    except:\n",
    "        # in case no CPU can be found\n",
    "        print('[except] CPU not found. Standard TDP=250 assigned.')"
   ]
  },
  {
   "cell_type": "code",
   "execution_count": 96,
   "id": "240a0902",
   "metadata": {},
   "outputs": [
    {
     "name": "stdout",
     "output_type": "stream",
     "text": [
      "CPU_name: 11th Gen Intel(R) Core(TM) i5-1135G7 @ 2.40GHz\n",
      "CPU recognized: TDP set to 28\n"
     ]
    }
   ],
   "source": [
    "detect_cpu()"
   ]
  },
  {
   "cell_type": "code",
   "execution_count": null,
   "id": "f04600a1",
   "metadata": {},
   "outputs": [],
   "source": []
  }
 ],
 "metadata": {
  "kernelspec": {
   "display_name": "Python 3",
   "language": "python",
   "name": "python3"
  },
  "language_info": {
   "codemirror_mode": {
    "name": "ipython",
    "version": 3
   },
   "file_extension": ".py",
   "mimetype": "text/x-python",
   "name": "python",
   "nbconvert_exporter": "python",
   "pygments_lexer": "ipython3",
   "version": "3.9.2"
  }
 },
 "nbformat": 4,
 "nbformat_minor": 5
}
