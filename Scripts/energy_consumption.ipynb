{
 "cells": [
  {
   "cell_type": "code",
   "execution_count": 25,
   "id": "ae37176e",
   "metadata": {},
   "outputs": [],
   "source": [
    "import os\n",
    "import pandas as pd\n",
    "import GPUtil\n",
    "import cpuinfo\n",
    "import re\n",
    "import time\n",
    "import psutil\n",
    "import pyperf"
   ]
  },
  {
   "cell_type": "code",
   "execution_count": 9,
   "id": "ee92b93f",
   "metadata": {},
   "outputs": [],
   "source": [
    "start = time.time()\n",
    "\n",
    "gpu_dataset_path = 'data/gpu.csv'\n",
    "cpu_dataset_path = 'data/cpu.csv'\n",
    "regexp_cpu = '(Core|Ryzen).* (i\\d-\\d{3,5}.?|\\d \\d{3,5}.?)'\n",
    "# need to write regex for gpu as well- to remove GPU brand name"
   ]
  },
  {
   "cell_type": "code",
   "execution_count": 10,
   "id": "8f36bde7",
   "metadata": {},
   "outputs": [],
   "source": [
    "import GPUtil\n",
    "def detect_gpu():\n",
    "    try:\n",
    "        gpus = GPUtil.getGPUs()\n",
    "        gpu_name = gpus[0].name\n",
    "        print(f'GPU name: {gpu_name}')\n",
    "        name=gpu_name.replace('NVIDIA ','')\n",
    "        \n",
    "#         print(name)\n",
    "#         dirname = os.path.dirname(__file__)\n",
    "#         relative_gpu_dataset_path = os.path.join(dirname, gpu_dataset_path)\n",
    "\n",
    "        df = pd.read_csv(\"../data/gpu.csv\")\n",
    "    \n",
    "        # it uses contains for more flexibility\n",
    "        row = df[df['name'].str.contains(name)]\n",
    "        if row.empty:\n",
    "            # if gpu not found then leave standard TDP value\n",
    "            print('GPU not found. Standard TDP= 250 assigned.')\n",
    "        else:\n",
    "            # otherwise assign gpu's TDP\n",
    "            TDP = row.TDP.values[0]\n",
    "            print(TDP)\n",
    "    # ValueError arise when GPUtil can't communicate with the GPU driver\n",
    "    except (ValueError, IndexError):\n",
    "        # in case no GPU can be found\n",
    "        print('[except] GPU not found. Standard TDP= 250 assigned.')"
   ]
  },
  {
   "cell_type": "code",
   "execution_count": 11,
   "id": "d3cb87a2",
   "metadata": {},
   "outputs": [
    {
     "name": "stdout",
     "output_type": "stream",
     "text": [
      "[except] GPU not found. Standard TDP= 250 assigned.\n"
     ]
    }
   ],
   "source": [
    "detect_gpu()"
   ]
  },
  {
   "cell_type": "code",
   "execution_count": 12,
   "id": "29f76513",
   "metadata": {},
   "outputs": [],
   "source": [
    "def detect_cpu():\n",
    "    try:\n",
    "        cpu_name = cpuinfo.get_cpu_info()['brand_raw']\n",
    "        print(f'CPU_name: {cpu_name}')\n",
    "        result = re.search(regexp_cpu, cpu_name)\n",
    "        \n",
    "        if result is not None:\n",
    "            cpu_name = result.group(1) + ' ' + result.group(2)\n",
    "       # print(cpu_name)\n",
    "            \n",
    "#         dirname = os.path.dirname(__file__)\n",
    "#         relative_cpu_dataset_path = os.path.join(dirname, cpu_dataset_path)\n",
    "\n",
    "        df = pd.read_csv(\"../data/cpu.csv\")\n",
    "    \n",
    "        # it uses contains for more flexibility\n",
    "        row = df[df['name'].str.contains(cpu_name)]\n",
    "        if row.empty:\n",
    "            # if gpu not found then leave standard TDP value\n",
    "            print('CPU not found. Standard TDP=250 assigned.')\n",
    "        else:\n",
    "            # otherwise, assign CPU's TDP\n",
    "            TDP = row.TDP.values[0]\n",
    "            print(f'CPU recognized: TDP set to {row.TDP.values[0]}')\n",
    "\n",
    "    except:\n",
    "        # in case no CPU can be found\n",
    "        print('[except] CPU not found. Standard TDP=250 assigned.')"
   ]
  },
  {
   "cell_type": "code",
   "execution_count": 29,
   "id": "240a0902",
   "metadata": {},
   "outputs": [
    {
     "name": "stdout",
     "output_type": "stream",
     "text": [
      "CPU_name: Intel(R) Core(TM) i5-1035G1 CPU @ 1.00GHz\n",
      "CPU recognized: TDP set to 25\n"
     ]
    }
   ],
   "source": [
    "detect_cpu()"
   ]
  },
  {
   "cell_type": "code",
   "execution_count": 22,
   "id": "b360c7cc",
   "metadata": {},
   "outputs": [
    {
     "name": "stdout",
     "output_type": "stream",
     "text": [
      "8\n",
      "Average power per processor: 0.01 W\n"
     ]
    }
   ],
   "source": [
    "# Get the number of processors in the system\n",
    "num_processors = psutil.cpu_count()\n",
    "print(num_processors)\n",
    "\n",
    "\n",
    "total_power = psutil.cpu_percent() / 100.0\n",
    "\n",
    "# Compute the average power per processor\n",
    "avg_power = total_power / num_processors\n",
    "\n",
    "print(f\"Average power per processor: {avg_power:.2f} W\")\n"
   ]
  },
  {
   "cell_type": "code",
   "execution_count": 30,
   "id": "b8b9b083",
   "metadata": {},
   "outputs": [
    {
     "name": "stdout",
     "output_type": "stream",
     "text": [
      "PUE: 0.010706638115631691\n"
     ]
    }
   ],
   "source": [
    "# import psutil\n",
    "# import os\n",
    "# import energy\n",
    "\n",
    "# # Get the current power consumption of the system\n",
    "# power_consumption = psutil.sensors_battery().power_plugged\n",
    "\n",
    "# # Get the energy consumption of the data center\n",
    "# data_center_energy = energy.Energy('electricity', 1)\n",
    "\n",
    "# # Calculate the PUE\n",
    "# pue = data_center_energy.get_energy() / power_consumption\n",
    "\n",
    "# # Print the result\n",
    "# print(f\"PUE: {pue}\")\n",
    "\n",
    "# Get the total power consumption of the system\n",
    "total_power = psutil.sensors_battery().power_plugged or psutil.sensors_battery().power_now\n",
    "\n",
    "# Get the power consumption of the IT equipment alone\n",
    "it_power = psutil.cpu_percent() + psutil.virtual_memory().percent\n",
    "\n",
    "# Calculate PUE\n",
    "pue = total_power / it_power\n",
    "\n",
    "print(\"PUE:\", pue)"
   ]
  },
  {
   "cell_type": "code",
   "execution_count": 32,
   "id": "f04600a1",
   "metadata": {},
   "outputs": [
    {
     "name": "stdout",
     "output_type": "stream",
     "text": [
      "Energy :  3.7892573853631603e-07 KWh\n",
      "The time of execution of above program is : 3033571.1982250214 ms\n"
     ]
    }
   ],
   "source": [
    "end = time.time()\n",
    "\n",
    "Hours_time = (end-start)/(60*60)\n",
    "\n",
    "Energy = (Hours_time*num_processors*avg_power*pue)/1000\n",
    "print(\"Energy : \",Energy,\"KWh\")\n",
    "print(\"The time of execution of above program is :\",\n",
    "      (end-start) * 10**3, \"ms\")"
   ]
  }
 ],
 "metadata": {
  "kernelspec": {
   "display_name": "Python 3",
   "language": "python",
   "name": "python3"
  },
  "language_info": {
   "codemirror_mode": {
    "name": "ipython",
    "version": 3
   },
   "file_extension": ".py",
   "mimetype": "text/x-python",
   "name": "python",
   "nbconvert_exporter": "python",
   "pygments_lexer": "ipython3",
   "version": "3.11.1"
  },
  "vscode": {
   "interpreter": {
    "hash": "e732a3565a626d8a508a93da71033929b991bd34e0caac342dd450119ee1c931"
   }
  }
 },
 "nbformat": 4,
 "nbformat_minor": 5
}
